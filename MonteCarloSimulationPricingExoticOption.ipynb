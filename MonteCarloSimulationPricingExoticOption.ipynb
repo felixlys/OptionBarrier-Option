{
  "nbformat": 4,
  "nbformat_minor": 0,
  "metadata": {
    "colab": {
      "provenance": [],
      "authorship_tag": "ABX9TyNAMc4XI1jliHgYU7BgpYNG",
      "include_colab_link": true
    },
    "kernelspec": {
      "name": "python3",
      "display_name": "Python 3"
    },
    "language_info": {
      "name": "python"
    }
  },
  "cells": [
    {
      "cell_type": "markdown",
      "metadata": {
        "id": "view-in-github",
        "colab_type": "text"
      },
      "source": [
        "<a href=\"https://colab.research.google.com/github/felixlys/OptionBarrier-Option/blob/main/MonteCarloSimulationPricingExoticOption.ipynb\" target=\"_parent\"><img src=\"https://colab.research.google.com/assets/colab-badge.svg\" alt=\"Open In Colab\"/></a>"
      ]
    },
    {
      "cell_type": "code",
      "execution_count": null,
      "metadata": {
        "id": "tHniHZvligrC"
      },
      "outputs": [],
      "source": [
        "import numpy as np"
      ]
    },
    {
      "cell_type": "code",
      "source": [
        "#Down and Out Barrier Option with Monte Carlo Simulation\n",
        "#By : Felix Lyanto Setiawan\n",
        "Z=np.random.normal(size=(10,4)) #10 adalah jumlah simulasi 4 adalah jmlh timestep dr 0 i=0,1,2,3\n",
        "r=np.exp(0.08/3)-1\n",
        "std=0.35\n",
        "dt=1/3\n",
        "X=np.zeros([10,4])\n",
        "for i in range (10):\n",
        "  for j in range(3):\n",
        "    X[i,j+1]=(r-0.5*std**2)*(1/3)+std*np.sqrt(dt)*Z[i,j]\n",
        "S=np.zeros([10,4])\n",
        "S[:,0]=100\n",
        "for i in range(10):\n",
        "  for j in range(3):\n",
        "    S[i,j+1]=S[i,j]*np.exp(X[i,j+1])\n",
        "#Barrier elemination\n",
        "for i in range(10):\n",
        "  if S[i,-1]<75:\n",
        "    S[i,-1]=0\n",
        "#Valuation\n",
        "ST=S[:,-1]\n",
        "K=70 #Strike Price\n",
        "V=np.zeros(10)#Diganti dengan banyaknya simulasi ya bole\n",
        "for i in range(10):\n",
        "  V[i]=np.exp(-0.08)* max(ST[i]-K,0)# Klo put dibalik saja K dan ST nya\n",
        "Price=np.mean(V)\n",
        "print(Price)"
      ],
      "metadata": {
        "colab": {
          "base_uri": "https://localhost:8080/"
        },
        "id": "f24q7IMnxsay",
        "outputId": "932c9da1-1f89-4f9a-ae07-7c44ded7df89"
      },
      "execution_count": null,
      "outputs": [
        {
          "output_type": "stream",
          "name": "stdout",
          "text": [
            "28.980674521475173\n"
          ]
        }
      ]
    },
    {
      "cell_type": "code",
      "source": [
        "Z= np.random.normal(size=(10,4))\n",
        "Val=np.zeros([10,4])\n",
        "Val[:,0]=100\n",
        "r=np.exp(0.08/3)-1\n",
        "dt=1/3\n",
        "std=0.35\n",
        "for i in range(10):\n",
        "  for j in range(3):\n",
        "    Val[i,j+1]=Val[i,j]*np.exp((r-0.5*std**2)*dt+std*np.sqrt(dt)*Z[i,j])\n",
        "print(Val)\n",
        "ST=Val[:,-1]\n",
        "print(ST)\n",
        "Value=np.exp(-0.08)*np.max(ST-75,0)\n",
        "print(Value)"
      ],
      "metadata": {
        "colab": {
          "base_uri": "https://localhost:8080/"
        },
        "id": "n4L2zVMsm7zl",
        "outputId": "b9fbda14-a0eb-4ffa-8dc4-13b574cd7d22"
      },
      "execution_count": null,
      "outputs": [
        {
          "output_type": "stream",
          "name": "stdout",
          "text": [
            "[[100.         100.72497375 124.15052299  99.3178679 ]\n",
            " [100.          81.15041354  90.76178772 128.59335218]\n",
            " [100.         105.39459764 120.32535759 108.51788029]\n",
            " [100.          79.67037692  67.91908083  67.47112449]\n",
            " [100.          82.69940725 110.49245236 101.18350878]\n",
            " [100.          98.17008986 115.27533711  99.85926648]\n",
            " [100.          96.21243935 115.94037228 120.69551234]\n",
            " [100.          84.12602482  77.43247829  60.32323176]\n",
            " [100.         100.30400646 126.93543264 161.94177594]\n",
            " [100.          77.35629749  72.75784397  78.1186232 ]]\n",
            "[ 99.3178679  128.59335218 108.51788029  67.47112449 101.18350878\n",
            "  99.85926648 120.69551234  60.32323176 161.94177594  78.1186232 ]\n",
            "80.25737455144626\n"
          ]
        }
      ]
    },
    {
      "cell_type": "code",
      "source": [
        "#Down and Out Barrier Option with Monte Carlo Simulation\n",
        "#By : Felix Lyanto Setiawan\n",
        "def DownandOutMonteCarlo(r,std,Sim,timesteps,S0,B,K):\n",
        "  Z=np.random.normal(size=(Sim,timesteps))\n",
        "  X=np.zeros([Sim,timesteps])\n",
        "  dt=1/timesteps\n",
        "  for i in range(Sim):\n",
        "    for j in range(timesteps-1):\n",
        "      X[i,j+1]=((np.exp(r/timesteps)-1)-0.5*std**2)*(dt)+std*np.sqrt(dt)*Z[i,j]\n",
        "  S=np.zeros([Sim,timesteps])\n",
        "  S[:,0]=S0\n",
        "  for i in range(Sim):\n",
        "    for j in range(timesteps-1):\n",
        "      S[i,j+1]=S[i,j]*np.exp(X[i,j+1])\n",
        "  #Barrier Elemination\n",
        "  for i in range(Sim):\n",
        "    if S[i,-1]<B:\n",
        "      S[i,-1]=0\n",
        "  #Valuation\n",
        "  ST=S[:,-1]\n",
        "  V=np.zeros(Sim)\n",
        "  for i in range(Sim):\n",
        "    V[i]=np.exp(-r)*max(ST[i]-K,0)\n",
        "  Harga=np.mean(V)\n",
        "  return V,Harga\n",
        "r = 0.08\n",
        "std = 0.35\n",
        "Sim = 1000\n",
        "timesteps = 365\n",
        "S0 = 100\n",
        "B = 75\n",
        "K = 70\n",
        "V,Price = DownandOutMonteCarlo(r, std, Sim, timesteps, S0, B, K)\n",
        "\n",
        "print(Price)"
      ],
      "metadata": {
        "id": "XcS_MuPLn3wV",
        "colab": {
          "base_uri": "https://localhost:8080/"
        },
        "outputId": "680a9302-dc2b-43b7-9ce8-37e1079c05b7"
      },
      "execution_count": null,
      "outputs": [
        {
          "output_type": "stream",
          "name": "stdout",
          "text": [
            "31.323713004313174\n"
          ]
        }
      ]
    },
    {
      "cell_type": "code",
      "source": [
        "#Vanilla Options\n",
        "#By : Felix Lyanto Setiawan\n",
        "import numpy as np\n",
        "def VanillaMonteCarlo(r,std,Sim,timesteps,S0,K):\n",
        "  Z=np.random.normal(size=(Sim,timesteps))\n",
        "  X=np.zeros([Sim,timesteps])\n",
        "  dt=1/timesteps\n",
        "  for i in range(Sim):\n",
        "    for j in range(timesteps-1):\n",
        "      X[i,j+1]=((np.exp(r/timesteps)-1)-0.5*std**2)*(dt)+std*np.sqrt(dt)*Z[i,j]\n",
        "  S=np.zeros([Sim,timesteps])\n",
        "  S[:,0]=S0\n",
        "  for i in range(Sim):\n",
        "    for j in range(timesteps-1):\n",
        "      S[i,j+1]=S[i,j]*np.exp(X[i,j+1])\n",
        "  #Valuation\n",
        "  ST=S[:,-1]\n",
        "  V=np.zeros(Sim)\n",
        "  for i in range(Sim):\n",
        "    V[i]=np.exp(-r)*max(ST[i]-K,0)\n",
        "  Harga=np.mean(V)\n",
        "  return V,Harga\n",
        "r = 0.08\n",
        "std = 0.35\n",
        "Sim = 1000\n",
        "timesteps = 365\n",
        "S0 = 100\n",
        "B = 75\n",
        "K = 70\n",
        "V,Price = VanillaMonteCarlo(r, std, Sim, timesteps, S0, K)\n",
        "\n",
        "print(Price)"
      ],
      "metadata": {
        "colab": {
          "base_uri": "https://localhost:8080/"
        },
        "id": "8tBqSjtMaGw7",
        "outputId": "e73f7b4c-4916-4f3d-b142-c992b9e20ae9"
      },
      "execution_count": null,
      "outputs": [
        {
          "output_type": "stream",
          "name": "stdout",
          "text": [
            "29.146129591163888\n"
          ]
        }
      ]
    },
    {
      "cell_type": "code",
      "source": [
        "#Blackscholes Formula\n",
        "#Felix Lyanto Setiawan\n",
        "def BlackscholesFormula(Data,K):\n",
        "\n"
      ],
      "metadata": {
        "id": "4tTjv8luOZVd"
      },
      "execution_count": null,
      "outputs": []
    }
  ]
}